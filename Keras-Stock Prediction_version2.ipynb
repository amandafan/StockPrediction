{
 "cells": [
  {
   "cell_type": "code",
   "execution_count": 1,
   "metadata": {},
   "outputs": [],
   "source": [
    "import datetime\n",
    "import pandas as pd\n",
    "import pandas_datareader.data as web"
   ]
  },
  {
   "cell_type": "code",
   "execution_count": 2,
   "metadata": {},
   "outputs": [
    {
     "name": "stdout",
     "output_type": "stream",
     "text": [
      "                 Open       High        Low      Close  Adj Close     Volume\n",
      "Date                                                                        \n",
      "2012-05-18  42.049999  45.000000  38.000000  38.230000  38.230000  573576400\n",
      "2012-05-21  36.529999  36.660000  33.000000  34.029999  34.029999  168192700\n",
      "2012-05-22  32.610001  33.590000  30.940001  31.000000  31.000000  101786600\n",
      "2012-05-23  31.370001  32.500000  31.360001  32.000000  32.000000   73600000\n",
      "2012-05-24  32.950001  33.209999  31.770000  33.029999  33.029999   50237200\n"
     ]
    }
   ],
   "source": [
    "start = datetime.datetime(2012, 5, 18) # or start = '1/1/2016'\n",
    "end = datetime.date.today()\n",
    "df = web.DataReader('FB', 'yahoo', start, end)\n",
    "print (df.head())  # print first rows of the prices data"
   ]
  },
  {
   "cell_type": "code",
   "execution_count": 3,
   "metadata": {},
   "outputs": [
    {
     "name": "stderr",
     "output_type": "stream",
     "text": [
      "Using TensorFlow backend.\n"
     ]
    }
   ],
   "source": [
    "import time\n",
    "import math\n",
    "from keras.models import Sequential\n",
    "from keras.layers.core import Dense, Dropout, Activation\n",
    "from keras.layers.recurrent import LSTM\n",
    "import numpy as np\n",
    "import pandas as pd\n",
    "import tensorflow as tf\n",
    "import sklearn.preprocessing as prep\n",
    "from keras import backend"
   ]
  },
  {
   "cell_type": "code",
   "execution_count": null,
   "metadata": {},
   "outputs": [],
   "source": [
    "#import os\n",
    "#s=os.getcwd()\n",
    "#s"
   ]
  },
  {
   "cell_type": "code",
   "execution_count": null,
   "metadata": {},
   "outputs": [],
   "source": [
    "#df = pd.read_csv('/Users/Yuffie/USA/SCU/COEN281DataMining/TermProject/data/GOOG.csv')\n",
    "#df.head()"
   ]
  },
  {
   "cell_type": "code",
   "execution_count": 4,
   "metadata": {},
   "outputs": [
    {
     "data": {
      "text/plain": [
       "['Open', 'High', 'Low', 'Close', 'Adj Close', 'Volume']"
      ]
     },
     "execution_count": 4,
     "metadata": {},
     "output_type": "execute_result"
    }
   ],
   "source": [
    "# Data preparation\n",
    "col_list = df.columns.tolist()\n",
    "col_list"
   ]
  },
  {
   "cell_type": "code",
   "execution_count": 6,
   "metadata": {},
   "outputs": [
    {
     "data": {
      "text/plain": [
       "['Open', 'High', 'Low', 'Adj Close', 'Close']"
      ]
     },
     "execution_count": 6,
     "metadata": {},
     "output_type": "execute_result"
    }
   ],
   "source": [
    "col_list.remove('Close')\n",
    "col_list.append('Close')\n",
    "#col_list.remove('Date')\n",
    "col_list.remove('Volume')\n",
    "col_list"
   ]
  },
  {
   "cell_type": "code",
   "execution_count": 7,
   "metadata": {},
   "outputs": [
    {
     "data": {
      "text/html": [
       "<div>\n",
       "<style>\n",
       "    .dataframe thead tr:only-child th {\n",
       "        text-align: right;\n",
       "    }\n",
       "\n",
       "    .dataframe thead th {\n",
       "        text-align: left;\n",
       "    }\n",
       "\n",
       "    .dataframe tbody tr th {\n",
       "        vertical-align: top;\n",
       "    }\n",
       "</style>\n",
       "<table border=\"1\" class=\"dataframe\">\n",
       "  <thead>\n",
       "    <tr style=\"text-align: right;\">\n",
       "      <th></th>\n",
       "      <th>Open</th>\n",
       "      <th>High</th>\n",
       "      <th>Low</th>\n",
       "      <th>Adj Close</th>\n",
       "      <th>Close</th>\n",
       "    </tr>\n",
       "    <tr>\n",
       "      <th>Date</th>\n",
       "      <th></th>\n",
       "      <th></th>\n",
       "      <th></th>\n",
       "      <th></th>\n",
       "      <th></th>\n",
       "    </tr>\n",
       "  </thead>\n",
       "  <tbody>\n",
       "    <tr>\n",
       "      <th>2012-05-18</th>\n",
       "      <td>42.049999</td>\n",
       "      <td>45.000000</td>\n",
       "      <td>38.000000</td>\n",
       "      <td>38.230000</td>\n",
       "      <td>38.230000</td>\n",
       "    </tr>\n",
       "    <tr>\n",
       "      <th>2012-05-21</th>\n",
       "      <td>36.529999</td>\n",
       "      <td>36.660000</td>\n",
       "      <td>33.000000</td>\n",
       "      <td>34.029999</td>\n",
       "      <td>34.029999</td>\n",
       "    </tr>\n",
       "    <tr>\n",
       "      <th>2012-05-22</th>\n",
       "      <td>32.610001</td>\n",
       "      <td>33.590000</td>\n",
       "      <td>30.940001</td>\n",
       "      <td>31.000000</td>\n",
       "      <td>31.000000</td>\n",
       "    </tr>\n",
       "    <tr>\n",
       "      <th>2012-05-23</th>\n",
       "      <td>31.370001</td>\n",
       "      <td>32.500000</td>\n",
       "      <td>31.360001</td>\n",
       "      <td>32.000000</td>\n",
       "      <td>32.000000</td>\n",
       "    </tr>\n",
       "    <tr>\n",
       "      <th>2012-05-24</th>\n",
       "      <td>32.950001</td>\n",
       "      <td>33.209999</td>\n",
       "      <td>31.770000</td>\n",
       "      <td>33.029999</td>\n",
       "      <td>33.029999</td>\n",
       "    </tr>\n",
       "  </tbody>\n",
       "</table>\n",
       "</div>"
      ],
      "text/plain": [
       "                 Open       High        Low  Adj Close      Close\n",
       "Date                                                             \n",
       "2012-05-18  42.049999  45.000000  38.000000  38.230000  38.230000\n",
       "2012-05-21  36.529999  36.660000  33.000000  34.029999  34.029999\n",
       "2012-05-22  32.610001  33.590000  30.940001  31.000000  31.000000\n",
       "2012-05-23  31.370001  32.500000  31.360001  32.000000  32.000000\n",
       "2012-05-24  32.950001  33.209999  31.770000  33.029999  33.029999"
      ]
     },
     "execution_count": 7,
     "metadata": {},
     "output_type": "execute_result"
    }
   ],
   "source": [
    "df = df[col_list]\n",
    "df.head()"
   ]
  },
  {
   "cell_type": "code",
   "execution_count": 8,
   "metadata": {},
   "outputs": [
    {
     "data": {
      "text/html": [
       "<div>\n",
       "<style>\n",
       "    .dataframe thead tr:only-child th {\n",
       "        text-align: right;\n",
       "    }\n",
       "\n",
       "    .dataframe thead th {\n",
       "        text-align: left;\n",
       "    }\n",
       "\n",
       "    .dataframe tbody tr th {\n",
       "        vertical-align: top;\n",
       "    }\n",
       "</style>\n",
       "<table border=\"1\" class=\"dataframe\">\n",
       "  <thead>\n",
       "    <tr style=\"text-align: right;\">\n",
       "      <th></th>\n",
       "      <th>Open</th>\n",
       "      <th>High</th>\n",
       "      <th>Low</th>\n",
       "      <th>Adj Close</th>\n",
       "      <th>Close</th>\n",
       "    </tr>\n",
       "  </thead>\n",
       "  <tbody>\n",
       "    <tr>\n",
       "      <th>0</th>\n",
       "      <td>42.049999</td>\n",
       "      <td>45.000000</td>\n",
       "      <td>38.000000</td>\n",
       "      <td>38.230000</td>\n",
       "      <td>38.230000</td>\n",
       "    </tr>\n",
       "    <tr>\n",
       "      <th>1</th>\n",
       "      <td>36.529999</td>\n",
       "      <td>36.660000</td>\n",
       "      <td>33.000000</td>\n",
       "      <td>34.029999</td>\n",
       "      <td>34.029999</td>\n",
       "    </tr>\n",
       "    <tr>\n",
       "      <th>2</th>\n",
       "      <td>32.610001</td>\n",
       "      <td>33.590000</td>\n",
       "      <td>30.940001</td>\n",
       "      <td>31.000000</td>\n",
       "      <td>31.000000</td>\n",
       "    </tr>\n",
       "    <tr>\n",
       "      <th>3</th>\n",
       "      <td>31.370001</td>\n",
       "      <td>32.500000</td>\n",
       "      <td>31.360001</td>\n",
       "      <td>32.000000</td>\n",
       "      <td>32.000000</td>\n",
       "    </tr>\n",
       "    <tr>\n",
       "      <th>4</th>\n",
       "      <td>32.950001</td>\n",
       "      <td>33.209999</td>\n",
       "      <td>31.770000</td>\n",
       "      <td>33.029999</td>\n",
       "      <td>33.029999</td>\n",
       "    </tr>\n",
       "  </tbody>\n",
       "</table>\n",
       "</div>"
      ],
      "text/plain": [
       "        Open       High        Low  Adj Close      Close\n",
       "0  42.049999  45.000000  38.000000  38.230000  38.230000\n",
       "1  36.529999  36.660000  33.000000  34.029999  34.029999\n",
       "2  32.610001  33.590000  30.940001  31.000000  31.000000\n",
       "3  31.370001  32.500000  31.360001  32.000000  32.000000\n",
       "4  32.950001  33.209999  31.770000  33.029999  33.029999"
      ]
     },
     "execution_count": 8,
     "metadata": {},
     "output_type": "execute_result"
    }
   ],
   "source": [
    "# Save data\n",
    "df.to_csv('FB-adjust.csv', index=False)\n",
    "validate_df = pd.read_csv('FB-adjust.csv')\n",
    "validate_df.head()"
   ]
  },
  {
   "cell_type": "code",
   "execution_count": 9,
   "metadata": {},
   "outputs": [],
   "source": [
    "# Standardization the dataset\n",
    "def standard_scaler(X_train, X_test):\n",
    "    train_samples, train_nx, train_ny = X_train.shape\n",
    "    test_samples, test_nx, test_ny = X_test.shape\n",
    "    \n",
    "    X_train = X_train.reshape((train_samples, train_nx * train_ny))\n",
    "    X_test = X_test.reshape((test_samples, test_nx * test_ny))\n",
    "    \n",
    "    preprocessor = prep.StandardScaler().fit(X_train)\n",
    "    X_train = preprocessor.transform(X_train)\n",
    "    X_test = preprocessor.transform(X_test)\n",
    "    \n",
    "    X_train = X_train.reshape((train_samples, train_nx, train_ny))\n",
    "    X_test = X_test.reshape((test_samples, test_nx, test_ny))\n",
    "    \n",
    "    return X_train, X_test\n"
   ]
  },
  {
   "cell_type": "code",
   "execution_count": 10,
   "metadata": {},
   "outputs": [],
   "source": [
    "# Split the data to X_train, y_train, X_test, y_test\n",
    "def preprocess_data(stock, seq_len):\n",
    "    amount_of_features = len(stock.columns)\n",
    "    data = stock.as_matrix()\n",
    "    \n",
    "    sequence_length = seq_len + 1\n",
    "    result = []\n",
    "    for index in range(len(data) - sequence_length):\n",
    "        result.append(data[index : index + sequence_length])\n",
    "        \n",
    "    result = np.array(result)\n",
    "    row = round(0.9 * result.shape[0])\n",
    "    train = result[: int(row), :]\n",
    "    y_test_org = result[int(row) :, -1][ : ,-1]\n",
    "    \n",
    "    train, result = standard_scaler(train, result)\n",
    "    \n",
    "    X_train = train[:, : -1]\n",
    "    y_train = train[:, -1][: ,-1]\n",
    "    X_test = result[int(row) :, : -1]\n",
    "    y_test = result[int(row) :, -1][ : ,-1]\n",
    "\n",
    "    X_train = np.reshape(X_train, (X_train.shape[0], X_train.shape[1], amount_of_features))\n",
    "    X_test = np.reshape(X_test, (X_test.shape[0], X_test.shape[1], amount_of_features))  \n",
    "\n",
    "    return [X_train, y_train, X_test, y_test, y_test_org]"
   ]
  },
  {
   "cell_type": "code",
   "execution_count": 11,
   "metadata": {},
   "outputs": [],
   "source": [
    "# Build LSTM Neural Network\n",
    "# LSTM --> Dropout --> LSTM --> Dropout --> Fully-Conneted(Dense)\n",
    "def build_model(layers):\n",
    "    model = Sequential()\n",
    "\n",
    "    # By setting return_sequences to True we are able to stack another LSTM layer\n",
    "    model.add(LSTM(\n",
    "        return_sequences=True,\n",
    "        input_shape=(None, 5), units=20))\n",
    "    model.add(Dropout(0.4))\n",
    "\n",
    "    model.add(LSTM(\n",
    "        layers[2],\n",
    "        return_sequences=False))\n",
    "    model.add(Dropout(0.3))\n",
    "\n",
    "    model.add(Dense(\n",
    "        units=1))\n",
    "    model.add(Activation(\"linear\"))\n",
    "\n",
    "    start = time.time()\n",
    "    model.compile(loss=\"mse\", optimizer=\"rmsprop\", metrics=['accuracy'])\n",
    "    print(\"Compilation Time : \", time.time() - start)\n",
    "    return model"
   ]
  },
  {
   "cell_type": "code",
   "execution_count": 12,
   "metadata": {},
   "outputs": [
    {
     "name": "stdout",
     "output_type": "stream",
     "text": [
      "X_train (1238, 20, 5)\n",
      "y_train (1238,)\n",
      "X_test (137, 20, 5)\n",
      "y_test (137,)\n"
     ]
    }
   ],
   "source": [
    "window = 20\n",
    "X_train, y_train, X_test, y_test, y_test_org = preprocess_data(df[:: -1], window)\n",
    "print(\"X_train\", X_train.shape)\n",
    "print(\"y_train\", y_train.shape)\n",
    "print(\"X_test\", X_test.shape)\n",
    "print(\"y_test\", y_test.shape)"
   ]
  },
  {
   "cell_type": "code",
   "execution_count": 13,
   "metadata": {},
   "outputs": [
    {
     "name": "stdout",
     "output_type": "stream",
     "text": [
      "Compilation Time :  0.022166967391967773\n"
     ]
    }
   ],
   "source": [
    "model = build_model([X_train.shape[2], window, 100, 1])"
   ]
  },
  {
   "cell_type": "code",
   "execution_count": 14,
   "metadata": {},
   "outputs": [
    {
     "data": {
      "text/plain": [
       "<keras.callbacks.History at 0x11e40ae10>"
      ]
     },
     "execution_count": 14,
     "metadata": {},
     "output_type": "execute_result"
    }
   ],
   "source": [
    "# Training the model\n",
    "model.fit(\n",
    "    X_train,\n",
    "    y_train,\n",
    "    batch_size=768,\n",
    "    epochs=300,\n",
    "    validation_split=0.1,\n",
    "    verbose=0)"
   ]
  },
  {
   "cell_type": "code",
   "execution_count": 15,
   "metadata": {},
   "outputs": [
    {
     "name": "stdout",
     "output_type": "stream",
     "text": [
      "Train Score: 0.01 MSE (0.11 RMSE)\n",
      "['loss', 'acc']\n",
      "Test Score: 0.02 MSE (0.15 RMSE)\n"
     ]
    }
   ],
   "source": [
    "trainScore = model.evaluate(X_train, y_train, verbose=0)\n",
    "print('Train Score: %.2f MSE (%.2f RMSE)' % (trainScore[0], math.sqrt(trainScore[0])))\n",
    "print(model.metrics_names)\n",
    "testScore = model.evaluate(X_test, y_test, verbose=0)\n",
    "print('Test Score: %.2f MSE (%.2f RMSE)' % (testScore[0], math.sqrt(testScore[0])))"
   ]
  },
  {
   "cell_type": "code",
   "execution_count": 16,
   "metadata": {},
   "outputs": [
    {
     "name": "stdout",
     "output_type": "stream",
     "text": [
      "error_ratio [-0.098042958775797606, -0.094387898152137217, -0.088177836205370785, -0.1016463994996889, -0.091531150874285205, -0.077665662356397824, -0.075558213633958315, -0.074090689005970711, -0.048003458927490361, -0.05535843483722569, -0.041504548351936177, -0.043161685013260009, -0.056630789900777967, -0.040992185984557117, -0.048125189397700052, -0.017690875810006501, -0.026214407917106608, -0.020459438781791683, -0.03715887691878339, -0.048873779787159122, -0.062470022008482062, -0.066564632619159458, -0.067597965841832863, -0.06932430389704114, -0.068893295978076807, -0.080800825611690885, -0.089356994003521706, -0.097671302640438995, -0.045262016884400125, -0.041384407926094657, -0.038249635124750658, -0.040201666241083678, -0.054790438263231045, -0.051445192951791729, -0.053749324562053502, -0.055228623280366262, -0.059511721066375811, -0.059027507873875229, -0.067678306476899763, -0.070482866664272725, -0.077388068925051789, -0.090928014565120785, -0.088251372855242982, -0.092377271630725954, -0.086719958194268365, -0.080296905513316919, -0.060642004142723582, -0.064005651854373236, -0.059500800489382111, -0.066554521755501916, -0.094461636164366647, -0.09027008141529147, -0.098153502032053197, -0.077158117664345549, -0.071066438645468133, -0.076555486560161312, -0.058349958697675675, -0.061250534332721984, -0.041456865712741098, -0.034342892261972735, -0.039072904419746535, -0.04157597905638255, -0.039183366198515923, -0.030471826703060367, -0.037660710138708975, -0.054171374429546448, -0.056439224633190177, -0.060974657668029342, -0.059406195792016003, -0.063507403502283566, -0.064298017492259385, -0.064488795125987597, -0.060881670796506193, -0.072077696717143591, -0.059229798396413402, -0.069862282371802475, -0.087171694883671935, -0.075452816267847278, -0.090167939214506831, -0.091104215473806982, -0.07829336451204405, -0.072587767541385628, -0.071298539039252651, -0.0860708773689286, -0.073582521944453028, -0.058030134365244956, -0.068867632322571537, -0.079960276821142928, -0.098536712792807846, -0.10435300656826441, -0.14451208721681663, -0.17496548260613853, -0.15698017292516819, -0.15378928760956334, -0.14667011588933698, -0.14304993518387377, -0.13794697331067929, -0.11738518681447685, -0.114761863648429, -0.1457483069465505, -0.14223198697307271, -0.13907987732577731, -0.14100514072681258, -0.14577343321333958, -0.13343105032821512, -0.12432633405143267, -0.11610597906342912, -0.10647052501904675, -0.10908822228083992, -0.11111165180479887, -0.12253897150824244, -0.13400379299851262, -0.1157596877612429, -0.12836078504643045, -0.10741282654824669, -0.10188104361804218, -0.10592306027277598, -0.098020071723493918, -0.076819489484665215, -0.052600162340873169, -0.04138154793619131, -0.049000854650854797, -0.049245607042324835, -0.056442498177195155, -0.050232403142573823, -0.062975038334869171, -0.054135269132665864, -0.073652229171729755, -0.089491897588440894, -0.11928540042127478, -0.099638885094949226, -0.10896307162069874, -0.15232492285895838, -0.16558657379577535, -0.14557842603101012, -0.12534141302742363, -0.16524105015003765]\n"
     ]
    }
   ],
   "source": [
    "#Visualize the Prediction\n",
    "diff = []\n",
    "ratio = []\n",
    "pred = model.predict(X_test)\n",
    "for u in range(len(y_test)):\n",
    "    pr = pred[u][0]\n",
    "    ratio.append((y_test[u] / pr) - 1)\n",
    "    diff.append(abs(y_test[u] - pr))\n",
    "print('error_ratio', ratio)\n",
    "#print('error_abs', diff)\n",
    "#print(pred)"
   ]
  },
  {
   "cell_type": "code",
   "execution_count": 19,
   "metadata": {},
   "outputs": [
    {
     "name": "stdout",
     "output_type": "stream",
     "text": [
      "[30.722082908061733, 30.322031854443029, 29.654906486886244, 31.168127989253051, 30.07257764126091, 28.579659158462047, 28.287340950688758, 28.015703797331483, 25.210175630430172, 25.745214795634514, 24.100270857082542, 23.953890266525992, 24.974314136796977, 23.117642709471184, 23.490485041674422, 20.217669276335435, 20.610286456458009, 19.611233838146969, 20.761473020626084, 21.521853319761565, 22.58061128386823, 22.765368382843828, 22.7155231585511, 22.789892428493779, 22.671946092553274, 23.868603901434323, 24.773702594150539, 25.744498726436142, 20.42445188612438, 20.154064006201253, 19.755646261142338, 19.774987445193279, 21.032371872615876, 20.536504433117031, 20.628783161465851, 20.661083179484034, 20.999730078926241, 20.872022470735011, 21.698519020354382, 21.9468789421785, 22.663916751691541, 24.145503713327635, 23.943002873898575, 24.536626622399059, 24.078047251006939, 23.551078744699851, 21.6317954279567, 22.030048622464371, 21.563017821336327, 22.272324934391573, 25.244652146123077, 24.831545647244265, 25.824795075966207, 23.698535381433288, 23.166349990219366, 23.823846132400323, 21.993307589470906, 22.295618549431207, 20.270344969345075, 19.478962925112082, 19.751758574919748, 19.782474756144897, 19.337716840400624, 18.287245784419092, 18.766768841583012, 20.183360371955683, 20.242469270275532, 20.595823273492432, 20.35947920805733, 20.726271699946462, 20.775846758280416, 20.780083550809032, 20.402114839192215, 21.564305469550071, 20.249364794429489, 21.362429050471647, 23.22452194040843, 22.043222194167882, 23.7406450387689, 23.996149362019036, 22.794671526778373, 22.341735718829462, 22.310720797795486, 23.9843544288155, 22.765114540224019, 21.274566980437172, 22.424307998316134, 23.596806152009531, 25.680468998044962, 26.472482098280082, 31.385598322071115, 35.56214846947239, 33.747724651646415, 33.974989419343252, 33.703261230530508, 33.840944986943271, 33.768225502085137, 31.825887782936586, 31.91231696866317, 35.961297179516251, 35.918801508203131, 35.973138720233202, 36.635840902036819, 37.659795715571939, 36.615666891847226, 35.938044300910136, 35.298350549922937, 34.436468926395406, 34.908057989332789, 35.280022585146206, 36.730976024541185, 38.221874105671631, 36.25711309047778, 37.917062969408171, 35.671585865244381, 35.184648732167446, 35.690440701597218, 34.823391314281132, 32.507185385930555, 29.860677483226151, 28.44718870296148, 28.811802969539468, 28.409019406132167, 28.721090074157704, 27.701512545862848, 28.611830097202063, 27.350634985911636, 29.038770154267279, 30.444538523689349, 33.609071558662315, 31.309660683172474, 32.366784227963265, 37.644140851259934, 39.584692626836791, 37.452237835419403, 35.442400568316792, 40.766258338549676]\n",
      "[ 27.709999  27.459999  27.040001  28.        27.32      26.360001  26.15\n",
      "  25.940001  24.        24.32      23.1       22.92      23.559999  22.17\n",
      "  22.360001  19.860001  20.07      19.209999  19.99      20.469999  21.17\n",
      "  21.25      21.18      21.209999  21.110001  21.940001  22.559999  23.23\n",
      "  19.5       19.32      19.        18.98      19.879999  19.48      19.52\n",
      "  19.52      19.75      19.639999  20.23      20.4       20.91      21.950001\n",
      "  21.83      22.27      21.99      21.66      20.32      20.620001\n",
      "  20.280001  20.790001  22.860001  22.59      23.290001  21.870001  21.52\n",
      "  22.        20.709999  20.93      19.43      18.809999  18.98      18.959999\n",
      "  18.58      17.73      18.059999  19.09      19.1       19.34      19.15\n",
      "  19.41      19.440001  19.440001  19.16      20.01      19.049999\n",
      "  19.870001  21.200001  20.379999  21.6       21.809999  21.01      20.719999\n",
      "  20.719999  21.92      21.09      20.040001  20.879999  21.709999  23.15\n",
      "  23.709999  26.85      29.34      28.450001  28.75      28.76      29.\n",
      "  29.110001  28.09      28.25      30.719999  30.809999  30.969999\n",
      "  31.469999  32.169998  31.73      31.469999  31.200001  30.77      31.1\n",
      "  31.360001  32.23      33.099998  32.060001  33.049999  31.84      31.6\n",
      "  31.91      31.41      30.01      28.290001  27.27      27.4       27.01\n",
      "  27.1       26.309999  26.809999  25.870001  26.9       27.719999  29.6\n",
      "  28.190001  28.84      31.91      33.029999  32.        31.        34.029999]\n"
     ]
    }
   ],
   "source": [
    "# Scale the representation back\n",
    "y_test = y_test_org\n",
    "pred_org = []\n",
    "for u in range(len(y_test)):\n",
    "    pred_org.append(y_test[u]/(ratio[u] + 1))\n",
    "    #print(ratio[u])\n",
    "print(pred_org)\n",
    "print(y_test)"
   ]
  },
  {
   "cell_type": "code",
   "execution_count": 18,
   "metadata": {},
   "outputs": [
    {
     "data": {
      "image/png": "[encoded data removed]",
      "text/plain": [
       "<matplotlib.figure.Figure at 0x11f1a9fd0>"
      ]
     },
     "metadata": {},
     "output_type": "display_data"
    }
   ],
   "source": [
    "import matplotlib.pyplot as plt2\n",
    "\n",
    "plt2.plot(pred_org, color='red', label='Prediction')\n",
    "plt2.plot(y_test, color='blue', label='Ground Truth')\n",
    "plt2.legend(loc='upper left')\n",
    "plt2.show()"
   ]
  },
  {
   "cell_type": "code",
   "execution_count": null,
   "metadata": {},
   "outputs": [],
   "source": []
  }
 ],
 "metadata": {
  "kernelspec": {
   "display_name": "Python 3",
   "language": "python",
   "name": "python3"
  },
  "language_info": {
   "codemirror_mode": {
    "name": "ipython",
    "version": 3
   },
   "file_extension": ".py",
   "mimetype": "text/x-python",
   "name": "python",
   "nbconvert_exporter": "python",
   "pygments_lexer": "ipython3",
   "version": "3.6.2"
  }
 },
 "nbformat": 4,
 "nbformat_minor": 2
}
